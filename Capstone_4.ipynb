{
    "nbformat_minor": 1, 
    "cells": [
        {
            "source": "# Find the best district to open a Mall in Warsaw", 
            "cell_type": "markdown", 
            "metadata": {}
        }, 
        {
            "source": "## Introduction", 
            "cell_type": "markdown", 
            "metadata": {}
        }, 
        {
            "source": "A shopping mall is a place where most people visit to buy items, clothes, groceries, etc. almost everything that a person needs. And because a mall has almost everything some families go there to spend some time together. And some mall actually has became a place to meet people and talk about their experiences.\n\nThat's why malls are highly valuated in the city planning, and having a great place to build one is hard, because the property developers needs to look to every aspect realted to location. One of this aspects its the competition, because you need to find a place that there's less or no others malls in the area.\n\nWarsaw is one of the fastest growing cities in Central Europe and have have a lot of building constructions in every part of the city, that's why i'm choosing this city for this project.", 
            "cell_type": "markdown", 
            "metadata": {}
        }, 
        {
            "source": "## Business Problem", 
            "cell_type": "markdown", 
            "metadata": {}
        }, 
        {
            "source": "The objective of this capstone project is to analyse and select the best locations in the city of Warsaw, Poland to open a new shopping mall. \nUsing data science methodology and machine learning techniques like clustering, this project aims to provide solutions to answer the business\nquestion: \nIn the city of Warsaw, Poland, if a property developer is looking to open a new shopping mall, where would you recommend that they open it?", 
            "cell_type": "markdown", 
            "metadata": {
                "collapsed": true
            }
        }, 
        {
            "source": "## Data", 
            "cell_type": "markdown", 
            "metadata": {}
        }, 
        {
            "source": "The data that i'll use for this poject is:\n\n\u2022 List of districts in Warsaw. To define the scope for this project which is confined to the city of Warsaw.\n\n\u2022 Latitude and longitude coordinates of those Districts. This is required in order to plot the map and also to get the venue data.\n\n\u2022 Data of the venues in the city, this dats should correspond to shopping malls. This data is used to perform clustering on the districts.", 
            "cell_type": "markdown", 
            "metadata": {}
        }, 
        {
            "source": "### Sources of data", 
            "cell_type": "markdown", 
            "metadata": {}
        }, 
        {
            "source": "To get the districts of Warsaw i'll use this This Wikipedia page (https://en.wikipedia.org/wiki/Districts_of_Warsaw) which contains all the districts of the city.\n\nUse web scraping techniques to extract the data from the Wikipedia page, with the help of Python requests and beautifulsoup packages. \n\nThen get the geographical coordinates of the districts using Python Geocoder package which will give the latitude and longitude coordinates of the districts.", 
            "cell_type": "markdown", 
            "metadata": {}
        }, 
        {
            "source": "Later with the help of Foursquare API i'll get the venue data for those districts, and then filter to only use the Shopping Mall data.\n\nFor this is project will use many data science skills, from web scraping (Wikipedia), working with API (Foursquare), data cleaning, data wrangling, to machine learning (K-means clustering) and map visualization (Folium).", 
            "cell_type": "markdown", 
            "metadata": {}
        }, 
        {
            "execution_count": null, 
            "cell_type": "code", 
            "metadata": {}, 
            "outputs": [], 
            "source": ""
        }
    ], 
    "metadata": {
        "kernelspec": {
            "display_name": "Python 3.6", 
            "name": "python3", 
            "language": "python"
        }, 
        "language_info": {
            "mimetype": "text/x-python", 
            "nbconvert_exporter": "python", 
            "version": "3.6.8", 
            "name": "python", 
            "file_extension": ".py", 
            "pygments_lexer": "ipython3", 
            "codemirror_mode": {
                "version": 3, 
                "name": "ipython"
            }
        }
    }, 
    "nbformat": 4
}